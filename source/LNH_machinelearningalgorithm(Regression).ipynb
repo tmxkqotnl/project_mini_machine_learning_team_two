{
 "cells": [
  {
   "cell_type": "markdown",
   "metadata": {},
   "source": [
    "## 회귀 (Regression)"
   ]
  },
  {
   "cell_type": "markdown",
   "metadata": {},
   "source": [
    "##### 베이스라인 모델 - 선형 회귀"
   ]
  },
  {
   "cell_type": "code",
   "execution_count": null,
   "metadata": {},
   "outputs": [],
   "source": [
    "# 선형 회귀 모형\n",
    "from sklearn.linear_model import LinearRegression\n",
    "import pandas as pd\n",
    "import numpy as np\n",
    "import matplotlib.pyplot as plt\n",
    "import seaborn as sns\n",
    "lr=LinearRegression()\n",
    "lr.fit(x_train,y_train)\n",
    "\n",
    "print('회귀계수(기울기):',np.round(lr.coef_,1))\n",
    "print('상수항(절편):',np.round(lr.intercept_,1))"
   ]
  },
  {
   "cell_type": "code",
   "execution_count": null,
   "metadata": {},
   "outputs": [],
   "source": [
    "# 예측\n",
    "y_test_pred=lr.predict(x_test)\n",
    "\n",
    "# 예측값, 실제값의 분포\n",
    "plt.figure(figsize(10,5))\n",
    "plt.scatter(x_test['LSTAT'],y_test,label='y_test')\n",
    "plt.scatter(x_test['LSTAT'],y_test_pred,c='r',label='y_pred')\n",
    "plt.legend(loc='best')\n",
    "plt.show()"
   ]
  },
  {
   "cell_type": "markdown",
   "metadata": {},
   "source": [
    "##### 모델 성능 평가"
   ]
  },
  {
   "cell_type": "code",
   "execution_count": null,
   "metadata": {},
   "outputs": [],
   "source": [
    "# 평가\n",
    "from sklearn.metrics import mean_squared_error\n",
    "y_train_pred=lr.predict(x_train)\n",
    "\n",
    "train_mse=mean_squared_error(y_train,y_train_pred)\n",
    "print('Train MSE:%.4f' % train_mse)\n",
    "\n",
    "test_mse=mean_squared_error(y_test,y_test_pred)\n",
    "print('Test MSE:%.4f' % test_mse)"
   ]
  },
  {
   "cell_type": "code",
   "execution_count": null,
   "metadata": {},
   "outputs": [],
   "source": [
    "# cross_val_score 함수\n",
    "from sklearn.model_selection import cross_val_score\n",
    "lr=LinearRegression()\n",
    "mse_scores=-1*cross_val_score(lr,x_train,y_train,cv=5,\n",
    "                              scoring='neg_mean_squared_error')\n",
    "print('개별 Fold의 MSE:',np.round(mse_scores,4))\n",
    "print('평균 MSE:%.4f' % np.mean(mse_scores))"
   ]
  },
  {
   "cell_type": "markdown",
   "metadata": {},
   "source": [
    "##### 과대적합 회피(L2/L1 규제)"
   ]
  },
  {
   "cell_type": "code",
   "execution_count": null,
   "metadata": {},
   "outputs": [],
   "source": [
    "# 2차 다항식 변환\n",
    "from sklearn.preprocessing import PolynomialFeatures\n",
    "pf=PolynomialFeatures(degree=2)\n",
    "x_train_poly=pf.fit_transform(x_train)\n",
    "print('원본 학습 데이터셋:',x_train.shape)\n",
    "print('2차 다항식 변환 데이터셋:',x_train_poly.shape)"
   ]
  },
  {
   "cell_type": "code",
   "execution_count": null,
   "metadata": {},
   "outputs": [],
   "source": [
    "# 2차 다항식 변환 데이터셋으로 선형 회귀 모형 학습\n",
    "lr=LinearRegression()\n",
    "lr.fit(x_train_poly,y_train)\n",
    "\n",
    "# 테스트 데이터에 대한 예측 및 평가\n",
    "y_train_pred=lr.predict(x_train_poly)\n",
    "train_mse=mean_squared_error(y_train,y_train_pred)\n",
    "print('Train MSE:%.4f' % train_mse)\n",
    "\n",
    "x_test_poly=pf.fit_transform(x_test)\n",
    "y_test_pred=lr.predict(x_test_poly)\n",
    "test_mse=mean_squared_error(y_test,y_test_pred)\n",
    "print('Test MSE:%.4f' % test_mse)"
   ]
  },
  {
   "cell_type": "code",
   "execution_count": null,
   "metadata": {},
   "outputs": [],
   "source": [
    "# 15차 다항식 변환 데이터셋으로 선형 회귀 모형 학습\n",
    "pf=PolynomialFeatures(degree=15)\n",
    "x_train_poly=pf.fit_transform(x_train)\n",
    "\n",
    "lr=LinearRegression()\n",
    "lr.fit(x_train_poly,y_train)\n",
    "\n",
    "# 테스트 데이터에 대한 예측 및 평가\n",
    "y_train_pred=lr.predict(x_train_poly)\n",
    "train_mse=mean_squared_error(y_train,y_train_pred)\n",
    "print('Train MSE:%.4f' % train_mse)\n",
    "\n",
    "x_test_poly=pf.fit_transform(x_test)\n",
    "y_test_pred=lr.predict(x_test_poly)\n",
    "test_mse=mean_squared_error(y_test,y_test_pred)\n",
    "print('Test MSE:%.4f' % test_mse)"
   ]
  },
  {
   "cell_type": "code",
   "execution_count": null,
   "metadata": {},
   "outputs": [],
   "source": [
    "# 다항식 차수에 따른 모델 적합도 변화\n",
    "plt.figure(figsize=(15,5))\n",
    "for n, deg in enumerate([1,2,15]):\n",
    "    axl=plt.subplot(1,3,n+1)\n",
    "    # plt.axis('off')\n",
    "    # degree별 다항 회귀 모형 적용\n",
    "    pf=PolynomialFeatures(degree=deg)\n",
    "    x_train_poly=pf.fit_transform(x_train.loc[:,['LSTAT']])\n",
    "    x_test_poly=pf.fit_transform(x_test.loc[:,['LSTAT']])\n",
    "    lr=LinearRegression()\n",
    "    lr.fit(x_train_poly,y_train)\n",
    "    y_test_pred=lr.predict(x_test_poly\n",
    "    \n",
    "    # 실제값 분포\n",
    "    plt.scatter(x_test.loc[:,['LSTAT']],y_test,label='Targets')\n",
    "    \n",
    "    # 예측값 분포\n",
    "    plt.scatter(x_test.loc[:,['LSTAT']],y_test_pred,label='Predictions')\n",
    "    \n",
    "    # 제목 표시\n",
    "    plt.title('Degree %d' % deg)\n",
    "    \n",
    "    # 범례 표시\n",
    "    plt.legend()\n",
    "plt.show()"
   ]
  },
  {
   "cell_type": "markdown",
   "metadata": {},
   "source": [
    "##### Ridge (L2 규제)"
   ]
  },
  {
   "cell_type": "code",
   "execution_count": null,
   "metadata": {},
   "outputs": [],
   "source": [
    "from sklearn.linear_model import Ridge\n",
    "rdg=Ridge(alpha=2.5)\n",
    "rdg.fit(x_train_poly,y_train)\n",
    "\n",
    "y_train_pred=rdg.predict(x_train_poly)\n",
    "train_mse=mean_squared_error(y_train,y_train_pred)\n",
    "print('Train MSE:%.4f' % train_mse)\n",
    "y_test_pred=rdg.predict(x_test_poly)\n",
    "test_mse=mean_squared_error(y_test,y_test_pred)\n",
    "print('Test MSE:%.4f' % test_mse)"
   ]
  },
  {
   "cell_type": "markdown",
   "metadata": {},
   "source": [
    "##### Lasso (L1 규제)"
   ]
  },
  {
   "cell_type": "code",
   "execution_count": null,
   "metadata": {},
   "outputs": [],
   "source": [
    "from sklearn.linear_model import Lasso\n",
    "las=Lasso(alpha=0.05)\n",
    "las.fit(x_train_poly,y_train)\n",
    "\n",
    "y_train_pred=las.predict(x_train_poly)\n",
    "train_mse=mean_squared_error(y_train,y_train_pred)\n",
    "print('Train MSE:%.4f' % train_mse)\n",
    "y_test_pred=las.predict(x_test_poly)\n",
    "test_mse=mean_squared_error(y_test,y_test_pred)\n",
    "print('Test MSE:%.4f' % test_mse)"
   ]
  },
  {
   "cell_type": "code",
   "execution_count": null,
   "metadata": {},
   "outputs": [],
   "source": [
    "# ElasticNet(L2/L1 규제)\n",
    "from sklearn.linear_model import ElasticNet\n",
    "ela=ElasticNet(alpha=0.01,l1_ratio=0.7)\n",
    "ela.fit(x_train_poly,y_train)\n",
    "\n",
    "y_train_pred=ela.predict(x_train_poly)\n",
    "train_mse=mean_squared_error(y_train,y_train_pred)\n",
    "print('Train MSE:%.4f' % train_mse)\n",
    "y_test_pred=ela.predict(x_test_poly)\n",
    "test_mse=mean_squared_error(y_test,y_test_pred)\n",
    "print('Test MSE:%.4f' % test_mse)"
   ]
  }
 ],
 "metadata": {
  "interpreter": {
   "hash": "8fac594bfae6525c0c41b4041d2d72effa188cc8ead05f81b1fab2bb098927fb"
  },
  "kernelspec": {
   "display_name": "Python 3.9.7 ('base')",
   "language": "python",
   "name": "python3"
  },
  "language_info": {
   "codemirror_mode": {
    "name": "ipython",
    "version": 3
   },
   "file_extension": ".py",
   "mimetype": "text/x-python",
   "name": "python",
   "nbconvert_exporter": "python",
   "pygments_lexer": "ipython3",
   "version": "3.6.13"
  },
  "orig_nbformat": 4
 },
 "nbformat": 4,
 "nbformat_minor": 2
}
