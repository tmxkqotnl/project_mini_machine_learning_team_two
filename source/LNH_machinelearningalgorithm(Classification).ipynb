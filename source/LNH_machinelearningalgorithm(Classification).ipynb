{
 "cells": [
  {
   "cell_type": "markdown",
   "metadata": {},
   "source": [
    "## 분류 (Classification)"
   ]
  },
  {
   "cell_type": "markdown",
   "metadata": {},
   "source": [
    "##### 분류 알고리즘1. KNN (K-Nearest-Neighbors)"
   ]
  },
  {
   "cell_type": "code",
   "execution_count": null,
   "metadata": {},
   "outputs": [],
   "source": [
    "# 모델 학습\n",
    "from sklearn.neighbors import KNeighborsClassifier\n",
    "knn=KNeighborsClassifier(n_neighbors=7) # n_neighbors 의 값을 바꾸어서 모델의 정확도를 향상시킬 수 있다(하이퍼파라미터 튜닝)\n",
    "knn.fit(x_train,y_train)"
   ]
  },
  {
   "cell_type": "code",
   "execution_count": null,
   "metadata": {},
   "outputs": [],
   "source": [
    "# 예측\n",
    "y_knn_pred=knn.predict(x_test)\n",
    "print('예측값:',y_knn_pred[:5])"
   ]
  },
  {
   "cell_type": "code",
   "execution_count": null,
   "metadata": {},
   "outputs": [],
   "source": [
    "# 성능 평가\n",
    "from sklearn.metrics import accuracy_score\n",
    "knn_acc=accuracy_score(y_test,y_knn_pred)\n",
    "print('Accuracy:%.4f' % knn_acc)"
   ]
  },
  {
   "cell_type": "markdown",
   "metadata": {},
   "source": [
    "##### 분류 알고리즘2. SVN (Support Vector Machine)"
   ]
  },
  {
   "cell_type": "code",
   "execution_count": null,
   "metadata": {},
   "outputs": [],
   "source": [
    "# 모델 학습\n",
    "from sklearn.svm import SVC\n",
    "svc=SVC(kernel='rbf')\n",
    "svc.fit(x_train,y_train)\n",
    "\n",
    "# 예측\n",
    "y_svc_pred=svc.predict(x_test)\n",
    "print('예측값:',y_svc_pred[:5])\n",
    "\n",
    "# 성능 평가\n",
    "svc_acc=accuracy_score(y_test,y_svc_pred)\n",
    "print('Accuracy:%.4f' % svc_acc)"
   ]
  },
  {
   "cell_type": "markdown",
   "metadata": {},
   "source": [
    "##### 분류 알고리즘3. 로지스틱 회귀 (Logistic Regression)"
   ]
  },
  {
   "cell_type": "code",
   "execution_count": 1,
   "metadata": {},
   "outputs": [],
   "source": [
    "# 모델 학습\n",
    "from sklearn.linear_model import LogisticRegression\n",
    "lrc=LogisticRegression()\n",
    "lrc.fit(x_train,y_train)\n",
    "\n",
    "# 예측\n",
    "y_lrc_pred=lrc.predict(x_test)\n",
    "print('예측값:',y_lrc_pred[:5])\n",
    "\n",
    "# 성능 평가\n",
    "lrc_acc=accuracy_score(y_test,y_lrc_pred)\n",
    "print('Accuracy:%.4f' % lrc_acc)\n",
    "\n",
    "# 확률값 예측\n",
    "y_lrc_prob=lrc.predict_proba(x_test)\n",
    "y_lrc_prob"
   ]
  },
  {
   "cell_type": "markdown",
   "metadata": {},
   "source": [
    "##### 분류 알고리즘4. 의사결정나무 (Decision Tree)"
   ]
  },
  {
   "cell_type": "code",
   "execution_count": null,
   "metadata": {},
   "outputs": [],
   "source": [
    "# 모델 학습\n",
    "from sklearn.tree import DecisionTreeClassifier\n",
    "dtc=DecisionTreeClassifier(max_depth=3, random_state=20)\n",
    "dtc.fit(x_train,y_train)\n",
    "\n",
    "# 예측\n",
    "y_dtc_pred=dtc.predict(x_test)\n",
    "print('예측값:',y_dtc_pred[:5])\n",
    "\n",
    "# 성능 평가\n",
    "dtc_acc=accuracy_score(y_test,y_dtc_pred)\n",
    "print('Accuracy:%.4f' % dtc_acc)"
   ]
  },
  {
   "cell_type": "markdown",
   "metadata": {},
   "source": [
    "##### 앙상블 모델1. 보팅 (Voting)"
   ]
  },
  {
   "cell_type": "code",
   "execution_count": null,
   "metadata": {},
   "outputs": [],
   "source": [
    "# Hard Voting 모델 학습 및 예측\n",
    "from sklearn.ensemble import VotingClassifier\n",
    "hvc=VotingClassifier(estimators=[('KNN',knn),('SVM',svc),('DT',dtc)],voting='hard')\n",
    "hvc.fit(x_train,y_train)\n",
    "\n",
    "# 예측\n",
    "y_hvc_pred=hvc.predict(x_test)\n",
    "print('예측값:',y_hvc_pred[:5])\n",
    "\n",
    "# 성능 평가\n",
    "hvc_acc=accuracy_score(y_test,y_hvc_pred)\n",
    "print('Accuracy:%.4f' % hvc_acc)"
   ]
  },
  {
   "cell_type": "markdown",
   "metadata": {},
   "source": [
    "##### 앙상블 모델2. 배깅 (Bagging)"
   ]
  },
  {
   "cell_type": "code",
   "execution_count": null,
   "metadata": {},
   "outputs": [],
   "source": [
    "# 모델 학습 및 검증\n",
    "from sklearn.ensemble import RandomForestClassifier\n",
    "rfc=RandomForestClassifier(n_estimators=50,max_depth=3,random_state=20)\n",
    "rfc.fit(x_train,y_train)\n",
    "\n",
    "# 예측\n",
    "y_rfc_pred=rfc.predict(x_test)\n",
    "print('예측값:',y_rfc_pred[:5])\n",
    "\n",
    "# 모델 성능 평가\n",
    "rfc_acc=accuracy_score(y_test,y_rfc_pred)\n",
    "print('Accuracy:%.4f' % rfc_acc)"
   ]
  },
  {
   "cell_type": "markdown",
   "metadata": {},
   "source": [
    "##### 앙상블 모델3. 부스팅 (Boosting)"
   ]
  },
  {
   "cell_type": "code",
   "execution_count": null,
   "metadata": {},
   "outputs": [],
   "source": [
    "# 모델 학습 및 예측\n",
    "from xgboost import XGBClassifier\n",
    "xgbc=XGBClassifier(n_estimators=50,max_depth=3,random_state=20)\n",
    "xgbc.fit(x_train,y_train)\n",
    "\n",
    "# 예측\n",
    "y_xgbc_pred=xgbc.predict(x_test)\n",
    "print('예측값:',y_xgbc_pred[:5])\n",
    "\n",
    "# 모델 성능 평가\n",
    "xgbc_acc=accuracy_score(y_test,y_xgbc_pred)\n",
    "print('Accuracy:%.4f' % xgbc_acc)"
   ]
  },
  {
   "cell_type": "markdown",
   "metadata": {},
   "source": [
    "##### 교차 검증1. Hold-out"
   ]
  },
  {
   "cell_type": "markdown",
   "metadata": {},
   "source": [
    "###### 학습(training) 데이터의 일부를 검증(validation) 데이터로 사용하는 방법입니다."
   ]
  },
  {
   "cell_type": "code",
   "execution_count": null,
   "metadata": {},
   "outputs": [],
   "source": [
    "# 검증용 데이터셋 분리\n",
    "x_tr,x_val,y_tr,y_val=train_test_split(x_train,y_train,\n",
    "                                       test_size=0.3,\n",
    "                                       shuffle=True,\n",
    "                                       random_state=20) \n",
    "# shuffle 옵션을 True로 설정하면 데이터를 랜덤하게 섞은 후 분리 추출함\n",
    "# 데이터 순서와 관계없는 예측모델의 일반성을 확인해 볼 수 있음\n",
    "print(x_tr.shape,y_tr.shape)\n",
    "print(x_val.shape,y_val.shape)\n",
    "\n",
    "# 학습\n",
    "rfc=RandomForestClassifier(max_depth=3,random_state=20)\n",
    "rfc.fit(x_tr,y_tr)\n",
    "\n",
    "# 예측\n",
    "y_tr_pred=rfc.predict(x_tr)\n",
    "y_val_pred=rfc.predict(x_val)\n",
    "\n",
    "# 검증\n",
    "tr_acc=accuracy_score(y_tr,y_tr_pred)\n",
    "val_acc=accuracy_score(y_val,y_val_pred)\n",
    "print('Train Accuracy:%.4f' % tr_acc)\n",
    "print('Validation Accuracy:%.4f' % val_acc)\n",
    "\n",
    "# 테스트 데이터 예측 및 평가\n",
    "y_test_pred=rfc.predict(x_test)\n",
    "test_acc=accuracy_score(y_test,y_test_pred)\n",
    "print('Test Accuracy:%.4f' % test_acc)"
   ]
  },
  {
   "cell_type": "markdown",
   "metadata": {},
   "source": [
    "##### 교차 검증2. K-fold"
   ]
  },
  {
   "cell_type": "markdown",
   "metadata": {},
   "source": [
    "###### Hold-out 방법을 여러번 반복하는 방법입니다."
   ]
  },
  {
   "cell_type": "code",
   "execution_count": null,
   "metadata": {},
   "outputs": [],
   "source": [
    "# 데이터셋을 5개의 Fold로 분할하는 KFold 클래스 객체 생성\n",
    "from sklearn.model_selection import KFold\n",
    "kfold=KFold(n_splits=5,shuffle=True,random_state=20)\n",
    "\n",
    "# 훈련용 데이터와 검증용 데이터의 행 인덱스를 각 Fold별로 구분하여 생성\n",
    "num_fold=1\n",
    "for tr_idx,val_idx in kfold.split(x_train):\n",
    "    print('%s Fold----------------------------------------------' % num_fold)\n",
    "    print('훈련:',len(tr_idx),tr_idx[:10])\n",
    "    print('검증:',len(val_idx),val_idx[:10])\n",
    "    num_fold=num_fold+1\n",
    "\n",
    "# 훈련용 데이터와 검증용 데이터의 행 인덱스를 각 Fold별로 구분하여 생성\n",
    "val_scores=[]\n",
    "num_fold=1\n",
    "for tr_idx,val_idx in kfold.split(x_train,y_train):\n",
    "    # 훈련용 데이터와 검증용 데이터를 행 인덱스 기준으로 추출\n",
    "    x_tr,x_val=x_train.iloc[tr_idx,:],x_train.iloc[val_idx,:]\n",
    "    y_tr,y_val=y_train.iloc[tr_idx],y_train.iloc[val_idx]\n",
    "    \n",
    "    # 학습\n",
    "    rfc=RandomForestClassifier(max_depth=5,random_state=20)\n",
    "    rfc.fit(x_tr,y_tr)\n",
    "    \n",
    "    # 검증\n",
    "    y_val_pred=rfc.predict(x_val)\n",
    "    val_acc=accuracy_score(y_val,y_val_pred)\n",
    "    print('%d Fold Accuracy:%.4f' % (num_fold,val_acc))\n",
    "    val_scores.append(val_acc)\n",
    "    num_fold+=1\n",
    "\n",
    "# 평균 Accuracy 계산\n",
    "import numpy as np\n",
    "mean_score=np.mean(val_scores)\n",
    "print('평균 검증 Accuracy:',np.round(mean_score,4))"
   ]
  }
 ],
 "metadata": {
  "interpreter": {
   "hash": "8fac594bfae6525c0c41b4041d2d72effa188cc8ead05f81b1fab2bb098927fb"
  },
  "kernelspec": {
   "display_name": "Python 3.9.7 ('base')",
   "language": "python",
   "name": "python3"
  },
  "language_info": {
   "codemirror_mode": {
    "name": "ipython",
    "version": 3
   },
   "file_extension": ".py",
   "mimetype": "text/x-python",
   "name": "python",
   "nbconvert_exporter": "python",
   "pygments_lexer": "ipython3",
   "version": "3.6.13"
  },
  "orig_nbformat": 4
 },
 "nbformat": 4,
 "nbformat_minor": 2
}
