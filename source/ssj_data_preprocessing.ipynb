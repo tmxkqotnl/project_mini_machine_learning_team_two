{
 "cells": [
  {
   "cell_type": "code",
   "execution_count": 1,
   "metadata": {},
   "outputs": [],
   "source": [
    "import pandas as pd\n",
    "import numpy as np\n",
    "import matplotlib.pyplot as plt\n",
    "import seaborn as sns"
   ]
  },
  {
   "cell_type": "code",
   "execution_count": 2,
   "metadata": {},
   "outputs": [],
   "source": [
    "df = pd.read_csv('../train.csv')"
   ]
  },
  {
   "cell_type": "code",
   "execution_count": 3,
   "metadata": {},
   "outputs": [
    {
     "data": {
      "text/plain": [
       "Store                0\n",
       "Dept                 0\n",
       "Date                 0\n",
       "Weekly_Sales         0\n",
       "IsHoliday            0\n",
       "Temperature          0\n",
       "Fuel_Price           0\n",
       "MarkDown1       181931\n",
       "MarkDown2       208219\n",
       "MarkDown3       190930\n",
       "MarkDown4       192420\n",
       "MarkDown5       181422\n",
       "CPI                  0\n",
       "Unemployment         0\n",
       "Type                 0\n",
       "Size                 0\n",
       "dtype: int64"
      ]
     },
     "execution_count": 3,
     "metadata": {},
     "output_type": "execute_result"
    }
   ],
   "source": [
    "df.isnull().sum()"
   ]
  },
  {
   "cell_type": "code",
   "execution_count": 4,
   "metadata": {},
   "outputs": [],
   "source": [
    "# 화씨 온도를 섭씨 온도로 변환\n",
    "df['Temperature'] = (df['Temperature'] - 32) / 1.8\n",
    "\n",
    "# 카테고리형으로 변경\n",
    "df['Type'] = df['Type'].astype('category')\n",
    "df['IsHoliday'] = df['IsHoliday'].astype('category')\n",
    "df['Store'] = df['Store'].astype('category')\n",
    "df['Dept'] = df['Dept'].astype('category')\n",
    "\n",
    "# 날짜 데이터 datetime형으로 변환 및 연도, 월, 일, 요일 분리\n",
    "df['Date'] = pd.to_datetime(df['Date'])\n",
    "df['Year'] =df['Date'].dt.year\n",
    "df['Month'] =df['Date'].dt.month\n",
    "df['Day'] =df['Date'].dt.day\n",
    "df['Day_name'] =df['Date'].dt.day_name()\n"
   ]
  },
  {
   "cell_type": "code",
   "execution_count": 5,
   "metadata": {},
   "outputs": [
    {
     "name": "stdout",
     "output_type": "stream",
     "text": [
      "<class 'pandas.core.frame.DataFrame'>\n",
      "RangeIndex: 282451 entries, 0 to 282450\n",
      "Data columns (total 20 columns):\n",
      " #   Column        Non-Null Count   Dtype         \n",
      "---  ------        --------------   -----         \n",
      " 0   Store         282451 non-null  category      \n",
      " 1   Dept          282451 non-null  category      \n",
      " 2   Date          282451 non-null  datetime64[ns]\n",
      " 3   Weekly_Sales  282451 non-null  float64       \n",
      " 4   IsHoliday     282451 non-null  category      \n",
      " 5   Temperature   282451 non-null  float64       \n",
      " 6   Fuel_Price    282451 non-null  float64       \n",
      " 7   MarkDown1     100520 non-null  float64       \n",
      " 8   MarkDown2     74232 non-null   float64       \n",
      " 9   MarkDown3     91521 non-null   float64       \n",
      " 10  MarkDown4     90031 non-null   float64       \n",
      " 11  MarkDown5     101029 non-null  float64       \n",
      " 12  CPI           282451 non-null  float64       \n",
      " 13  Unemployment  282451 non-null  float64       \n",
      " 14  Type          282451 non-null  category      \n",
      " 15  Size          282451 non-null  int64         \n",
      " 16  Year          282451 non-null  int64         \n",
      " 17  Month         282451 non-null  int64         \n",
      " 18  Day           282451 non-null  int64         \n",
      " 19  Day_name      282451 non-null  object        \n",
      "dtypes: category(4), datetime64[ns](1), float64(10), int64(4), object(1)\n",
      "memory usage: 35.6+ MB\n"
     ]
    }
   ],
   "source": [
    "df.info()"
   ]
  },
  {
   "cell_type": "code",
   "execution_count": 6,
   "metadata": {},
   "outputs": [
    {
     "data": {
      "text/plain": [
       "Store                0\n",
       "Dept                 0\n",
       "Date                 0\n",
       "Weekly_Sales         0\n",
       "IsHoliday            0\n",
       "Temperature          0\n",
       "Fuel_Price           0\n",
       "MarkDown1       181931\n",
       "MarkDown2       208219\n",
       "MarkDown3       190930\n",
       "MarkDown4       192420\n",
       "MarkDown5       181422\n",
       "CPI                  0\n",
       "Unemployment         0\n",
       "Type                 0\n",
       "Size                 0\n",
       "Year                 0\n",
       "Month                0\n",
       "Day                  0\n",
       "Day_name             0\n",
       "dtype: int64"
      ]
     },
     "execution_count": 6,
     "metadata": {},
     "output_type": "execute_result"
    }
   ],
   "source": [
    "df.isnull().sum()"
   ]
  },
  {
   "cell_type": "code",
   "execution_count": 7,
   "metadata": {},
   "outputs": [],
   "source": [
    "# ???\n",
    "def encode_sin_cos(df,col_n,max_val):\n",
    "    df[col_n+'_sin'] = np.sin(2*np.pi*df[col_n]/max_val)\n",
    "    df[col_n+'_cos'] = np.cos(2*np.pi*df[col_n]/max_val)\n",
    "    \n",
    "    return df\n",
    "\n",
    "df_1 = encode_sin_cos(df,'Month',12)\n",
    "df_1 = encode_sin_cos(df_1,'Day',31)\n",
    "\n",
    "df_2010 = df_1[df_1['Year'] == 2010]\n",
    "df_2011 = df_1[df_1['Year'] == 2011]\n",
    "df_2012 = df_1[df_1['Year'] == 2012]"
   ]
  },
  {
   "cell_type": "code",
   "execution_count": 8,
   "metadata": {},
   "outputs": [
    {
     "data": {
      "text/plain": [
       "Text(0.5, 0, 'Sine Encoded Months')"
      ]
     },
     "execution_count": 8,
     "metadata": {},
     "output_type": "execute_result"
    },
    {
     "data": {
      "image/png": "[encoded data removed]",
      "text/plain": [
       "<Figure size 432x288 with 1 Axes>"
      ]
     },
     "metadata": {
      "needs_background": "light"
     },
     "output_type": "display_data"
    }
   ],
   "source": [
    "# 2010년 month 존재유무\n",
    "c_m = sns.scatterplot(x=\"Month_sin\",y=\"Month_cos\",data=df_2010)\n",
    "c_m.set_title(\"Cyclic Encoding of Month (2010)\")\n",
    "c_m.set_ylabel(\"Cosine Encoded Months\")\n",
    "c_m.set_xlabel(\"Sine Encoded Months\")"
   ]
  },
  {
   "cell_type": "code",
   "execution_count": 9,
   "metadata": {},
   "outputs": [
    {
     "data": {
      "text/plain": [
       "Text(0.5, 0, 'Sine Encoded Months')"
      ]
     },
     "execution_count": 9,
     "metadata": {},
     "output_type": "execute_result"
    },
    {
     "data": {
      "image/png": "[encoded data removed]",
      "text/plain": [
       "<Figure size 432x288 with 1 Axes>"
      ]
     },
     "metadata": {
      "needs_background": "light"
     },
     "output_type": "display_data"
    }
   ],
   "source": [
    "# 2011년 month 존재유무\n",
    "c_m = sns.scatterplot(x=\"Month_sin\",y=\"Month_cos\",data=df_2011)\n",
    "c_m.set_title(\"Cyclic Encoding of Month (2011)\")\n",
    "c_m.set_ylabel(\"Cosine Encoded Months\")\n",
    "c_m.set_xlabel(\"Sine Encoded Months\")"
   ]
  },
  {
   "cell_type": "code",
   "execution_count": 10,
   "metadata": {},
   "outputs": [
    {
     "data": {
      "text/plain": [
       "Text(0.5, 0, 'Sine Encoded Months')"
      ]
     },
     "execution_count": 10,
     "metadata": {},
     "output_type": "execute_result"
    },
    {
     "data": {
      "image/png": "[encoded data removed]",
      "text/plain": [
       "<Figure size 432x288 with 1 Axes>"
      ]
     },
     "metadata": {
      "needs_background": "light"
     },
     "output_type": "display_data"
    }
   ],
   "source": [
    "# 2012년 month 존재유무\n",
    "c_m = sns.scatterplot(x=\"Month_sin\",y=\"Month_cos\",data=df_2012)\n",
    "c_m.set_title(\"Cyclic Encoding of Month (2012)\")\n",
    "c_m.set_ylabel(\"Cosine Encoded Months\")\n",
    "c_m.set_xlabel(\"Sine Encoded Months\")"
   ]
  },
  {
   "cell_type": "code",
   "execution_count": 11,
   "metadata": {},
   "outputs": [
    {
     "data": {
      "text/plain": [
       "count     282451\n",
       "unique         1\n",
       "top       Friday\n",
       "freq      282451\n",
       "Name: Day_name, dtype: object"
      ]
     },
     "execution_count": 11,
     "metadata": {},
     "output_type": "execute_result"
    }
   ],
   "source": [
    "# 모든 금요일날 해당 주간의 수익을 측정\n",
    "df['Day_name'].describe()"
   ]
  },
  {
   "cell_type": "code",
   "execution_count": 12,
   "metadata": {},
   "outputs": [
    {
     "data": {
      "text/plain": [
       "<AxesSubplot:>"
      ]
     },
     "execution_count": 12,
     "metadata": {},
     "output_type": "execute_result"
    },
    {
     "data": {
      "image/png": "[encoded data removed]",
      "text/plain": [
       "<Figure size 792x648 with 2 Axes>"
      ]
     },
     "metadata": {},
     "output_type": "display_data"
    }
   ],
   "source": [
    "sns.set(style=\"white\")\n",
    "\n",
    "# Compute the correlation matrix\n",
    "corr = df.corr()\n",
    "\n",
    "# Generate a mask for the upper triangle\n",
    "mask = np.zeros_like(corr, dtype=np.bool)\n",
    "mask[np.triu_indices_from(mask)] = True\n",
    "\n",
    "# Set up the matplotlib figure\n",
    "f, ax = plt.subplots(figsize=(11, 9))\n",
    "\n",
    "# Generate a custom diverging colormap\n",
    "cmap = sns.diverging_palette(220, 10, as_cmap=True)\n",
    "\n",
    "# Draw the heatmap with the mask and correct aspect ratio\n",
    "sns.heatmap(corr, mask=mask, cmap=cmap, vmax=.3, center=0,\n",
    "            square=True, linewidths=.5, cbar_kws={\"shrink\": .5})"
   ]
  },
  {
   "cell_type": "code",
   "execution_count": 13,
   "metadata": {},
   "outputs": [
    {
     "data": {
      "text/plain": [
       "Weekly_Sales    1.000000\n",
       "Size            0.243935\n",
       "MarkDown1       0.089862\n",
       "MarkDown5       0.089408\n",
       "MarkDown3       0.056325\n",
       "MarkDown4       0.045958\n",
       "Month           0.028490\n",
       "Unemployment    0.025850\n",
       "MarkDown2       0.023672\n",
       "CPI             0.022459\n",
       "Month_cos       0.010222\n",
       "Year            0.008247\n",
       "Day             0.007012\n",
       "Day_cos         0.003231\n",
       "Month_sin       0.002990\n",
       "Fuel_Price      0.002720\n",
       "Day_sin         0.001819\n",
       "Temperature     0.001079\n",
       "Name: Weekly_Sales, dtype: float64"
      ]
     },
     "execution_count": 13,
     "metadata": {},
     "output_type": "execute_result"
    }
   ],
   "source": [
    "corr = df.corr()\n",
    "# corr['Weekly_Sales'].dtypes\n",
    "corr['Weekly_Sales'].abs().sort_values(ascending=False)"
   ]
  },
  {
   "cell_type": "code",
   "execution_count": 14,
   "metadata": {},
   "outputs": [
    {
     "data": {
      "text/plain": [
       "<AxesSubplot:ylabel='Temperature'>"
      ]
     },
     "execution_count": 14,
     "metadata": {},
     "output_type": "execute_result"
    },
    {
     "data": {
      "image/png": "[encoded data removed]",
      "text/plain": [
       "<Figure size 432x288 with 1 Axes>"
      ]
     },
     "metadata": {},
     "output_type": "display_data"
    }
   ],
   "source": [
    "sns.boxplot(y = df['Temperature'])"
   ]
  },
  {
   "cell_type": "code",
   "execution_count": 17,
   "metadata": {},
   "outputs": [
    {
     "data": {
      "text/plain": [
       "<AxesSubplot:ylabel='Weekly_Sales'>"
      ]
     },
     "execution_count": 17,
     "metadata": {},
     "output_type": "execute_result"
    },
    {
     "data": {
      "image/png": "[encoded data removed]",
      "text/plain": [
       "<Figure size 432x288 with 1 Axes>"
      ]
     },
     "metadata": {},
     "output_type": "display_data"
    }
   ],
   "source": []
  },
  {
   "cell_type": "code",
   "execution_count": 19,
   "metadata": {},
   "outputs": [
    {
     "data": {
      "text/plain": [
       "<AxesSubplot:ylabel='Fuel_Price'>"
      ]
     },
     "execution_count": 19,
     "metadata": {},
     "output_type": "execute_result"
    },
    {
     "data": {
      "image/png": "[encoded data removed]",
      "text/plain": [
       "<Figure size 432x288 with 1 Axes>"
      ]
     },
     "metadata": {},
     "output_type": "display_data"
    }
   ],
   "source": [
    "sns.boxplot(y = df['Fuel_Price'])"
   ]
  },
  {
   "cell_type": "code",
   "execution_count": 22,
   "metadata": {},
   "outputs": [
    {
     "name": "stdout",
     "output_type": "stream",
     "text": [
      "salary[0]: 87235.57\n",
      "salary[0]가 속한 카테고리: (0, 100000]\n"
     ]
    },
    {
     "data": {
      "text/plain": [
       "(-100000, 0]           900\n",
       "(0, 100000]         278143\n",
       "(100000, 200000]      3300\n",
       "(200000, 300000]        87\n",
       "(300000, 400000]        17\n",
       "(400000, 500000]         1\n",
       "(500000, 600000]         0\n",
       "(600000, 700000]         3\n",
       "Name: Weekly_Sales, dtype: int64"
      ]
     },
     "execution_count": 22,
     "metadata": {},
     "output_type": "execute_result"
    }
   ],
   "source": [
    "# pandas의 cut과 qcut을 이용해 수치형 데이터를 범주형 데이터로 변형시킵니다.\n",
    "bins = [-100000, 0, 100000, 200000, 300000, 400000, 500000, 600000, 700000]\n",
    "ctg = pd.cut(df['Weekly_Sales'], bins=bins)\n",
    "\n",
    "# 구간별로 값이 몇 개가 속해 있는지 value_counts()로 확인\n",
    "ctg.value_counts().sort_index()"
   ]
  },
  {
   "cell_type": "code",
   "execution_count": 20,
   "metadata": {},
   "outputs": [
    {
     "data": {
      "text/plain": [
       "count    282451.000000\n",
       "mean      15983.429692\n",
       "std       22661.092494\n",
       "min       -4988.940000\n",
       "25%        2079.330000\n",
       "50%        7616.550000\n",
       "75%       20245.745000\n",
       "max      693099.360000\n",
       "Name: Weekly_Sales, dtype: float64"
      ]
     },
     "execution_count": 20,
     "metadata": {},
     "output_type": "execute_result"
    }
   ],
   "source": [
    "df['Weekly_Sales'].describe()"
   ]
  },
  {
   "cell_type": "code",
   "execution_count": null,
   "metadata": {},
   "outputs": [],
   "source": []
  },
  {
   "cell_type": "code",
   "execution_count": null,
   "metadata": {},
   "outputs": [],
   "source": []
  },
  {
   "cell_type": "code",
   "execution_count": null,
   "metadata": {},
   "outputs": [],
   "source": []
  },
  {
   "cell_type": "code",
   "execution_count": null,
   "metadata": {},
   "outputs": [],
   "source": []
  },
  {
   "cell_type": "code",
   "execution_count": null,
   "metadata": {},
   "outputs": [],
   "source": []
  },
  {
   "cell_type": "code",
   "execution_count": null,
   "metadata": {},
   "outputs": [],
   "source": []
  },
  {
   "cell_type": "code",
   "execution_count": null,
   "metadata": {},
   "outputs": [],
   "source": []
  },
  {
   "cell_type": "code",
   "execution_count": null,
   "metadata": {},
   "outputs": [],
   "source": []
  },
  {
   "cell_type": "code",
   "execution_count": null,
   "metadata": {},
   "outputs": [],
   "source": []
  },
  {
   "cell_type": "code",
   "execution_count": null,
   "metadata": {},
   "outputs": [],
   "source": []
  },
  {
   "cell_type": "code",
   "execution_count": null,
   "metadata": {},
   "outputs": [],
   "source": []
  },
  {
   "cell_type": "code",
   "execution_count": null,
   "metadata": {},
   "outputs": [],
   "source": []
  },
  {
   "cell_type": "code",
   "execution_count": null,
   "metadata": {},
   "outputs": [],
   "source": []
  },
  {
   "cell_type": "code",
   "execution_count": null,
   "metadata": {},
   "outputs": [],
   "source": []
  },
  {
   "cell_type": "code",
   "execution_count": null,
   "metadata": {},
   "outputs": [],
   "source": []
  },
  {
   "cell_type": "code",
   "execution_count": null,
   "metadata": {},
   "outputs": [],
   "source": []
  },
  {
   "cell_type": "code",
   "execution_count": null,
   "metadata": {},
   "outputs": [],
   "source": []
  },
  {
   "cell_type": "code",
   "execution_count": null,
   "metadata": {},
   "outputs": [],
   "source": []
  },
  {
   "cell_type": "code",
   "execution_count": null,
   "metadata": {},
   "outputs": [],
   "source": []
  }
 ],
 "metadata": {
  "interpreter": {
   "hash": "35ecdaa405b11da70337b0dea4c87c647b85f9c0e924509fd4c7798028234c39"
  },
  "kernelspec": {
   "display_name": "Python 3.6.13 ('ml')",
   "language": "python",
   "name": "python3"
  },
  "language_info": {
   "codemirror_mode": {
    "name": "ipython",
    "version": 3
   },
   "file_extension": ".py",
   "mimetype": "text/x-python",
   "name": "python",
   "nbconvert_exporter": "python",
   "pygments_lexer": "ipython3",
   "version": "3.6.13"
  },
  "orig_nbformat": 4
 },
 "nbformat": 4,
 "nbformat_minor": 2
}
